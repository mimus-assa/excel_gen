{
 "cells": [
  {
   "cell_type": "code",
   "execution_count": null,
   "metadata": {},
   "outputs": [],
   "source": [
    "CREATE TABLE `Servi` (\n",
    "  `ID` int NOT NULL AUTO_INCREMENT,\n",
    "  `Orden` varchar(50) NOT NULL UNIQUE,\n",
    "  `Dependencia` varchar(50) ,\n",
    "  `Atencion` varchar(50) ,\n",
    "  `Recibio_Del_Cer` varchar(50),\n",
    "  `Entrego_al_cer` varchar(50),\n",
    "  `Folio` varchar(50) ,\n",
    "  `Entrada` varchar(50),\n",
    "  `Equipo` varchar(50) ,\n",
    "  `Marca` varchar(50) ,\n",
    "  `Modelo` varchar(50),\n",
    "  `Serie` varchar(50),\n",
    "  `Unidad` varchar(50),\n",
    "  `Delegacion` varchar(50),\n",
    "  `Accesorio` varchar(50),\n",
    "  `Falla` varchar(500),\n",
    "  `Ticket` varchar(50),\n",
    "  `Status` varchar(50),\n",
    "  `Reparacion` varchar(50),\n",
    "  `Salida` varchar(50),\n",
    "  `Reparo` varchar(50),\n",
    "  `Servicio` varchar(50),\n",
    "  `Reporte` varchar(500),\n",
    "   PRIMARY KEY (ID)\n",
    ")\n",
    "\n",
    "DELETE FROM Servi WHERE ID='1108';\n",
    "\n",
    "ALTER TABLE Servi\n",
    "ADD UNIQUE (Orden);\n",
    "\n",
    "ALTER TABLE Servi\n",
    "  ADD CONSTRAINT Orden_pk \n",
    "    PRIMARY KEY (Orden);"
   ]
  },
  {
   "cell_type": "code",
   "execution_count": 1,
   "metadata": {},
   "outputs": [
    {
     "name": "stdout",
     "output_type": "stream",
     "text": [
      "['Orden', 'Dependencia', 'Atencion', 'Recibio_del_cer', 'Entrego_al_cer', 'Folio', 'Entrada', 'Equipo', 'Marca', 'Modelo', 'Serie', 'Unidad', 'Delegacion', 'Accesorio', 'Falla', 'Ticket', 'Status', 'Reparacion', 'Salida', 'Reparacion.1', 'Servicio', 'Reporte']\n"
     ]
    }
   ],
   "source": [
    "import pandas as pd\n",
    "\n",
    "serv_data = pd.read_csv(\"cer_orden_gen/data.csv\")\n",
    "\n",
    "serv_data = serv_data.iloc[:,0:22]\n",
    "names = list(serv_data.head(0))\n",
    "print(names)"
   ]
  },
  {
   "cell_type": "code",
   "execution_count": 1,
   "metadata": {},
   "outputs": [],
   "source": []
  },
  {
   "cell_type": "code",
   "execution_count": 1,
   "metadata": {},
   "outputs": [],
   "source": [
    "#populate database\n",
    "\n",
    "import mysql.connector\n",
    "import pandas as pd\n",
    "mydb = mysql.connector.connect(\n",
    "  host=\"localhost\",\n",
    "  user=\"mimus\",\n",
    "  password=\"Astaroth_1\",\n",
    "  database=\"CER\"\n",
    ")\n",
    "\n",
    "mycursor = mydb.cursor()\n",
    "\n",
    "def parseCSV(filePath):\n",
    "      # CVS Column Names\n",
    "    col_names = ['Orden', 'Dependencia', 'Atencion', 'Recibio_del_cer', 'Entrego_al_cer', 'Folio', 'Entrada', 'Equipo', 'Marca', 'Modelo', 'Serie', 'Unidad', 'Delegacion', 'Accesorio', 'Falla', 'Ticket', 'Status', 'Reparacion', 'Salida', 'Reparo', 'Servicio', 'Reporte', 'LinkR', 'Descarga_r', 'linkO', 'Descarga_o']\n",
    "    # Use Pandas to parse the CSV file\n",
    "    csvData = pd.read_csv(filePath,names=col_names)\n",
    "    csvData = csvData.where((pd.notnull(csvData)), None)\n",
    "    csvData = csvData.iloc[1:,0:22]\n",
    "    # Loop through the Rows\n",
    "    for i,row in csvData.iterrows():\n",
    "        sql = \"INSERT INTO Servi (Orden, Dependencia, Atencion, Recibio_del_cer, Entrego_al_cer, Folio, Entrada, Equipo, Marca, Modelo, Serie, Unidad, Delegacion, Accesorio, Falla, Ticket, Status, Reparacion, Salida, Reparo, Servicio, Reporte) VALUES ( %s, %s, %s, %s, %s, %s, %s, %s, %s, %s, %s, %s, %s, %s, %s, %s, %s, %s, %s, %s, %s, %s)\"\n",
    "        value = (row['Orden'], row['Dependencia'], row['Atencion'], row['Recibio_del_cer'], row['Entrego_al_cer'], str(row['Folio']), row['Entrada'], row['Equipo'], row['Marca'], str(row['Modelo']), str(row['Serie']), str(row['Unidad']), row['Delegacion'], row['Accesorio'], row['Falla'], str(row['Ticket']), row['Status'], row['Reparacion'], row['Salida'], row['Reparo'], row['Servicio'], row['Reporte'])\n",
    "        mycursor.execute(sql, value)\n",
    "        mydb.commit()\n",
    "       # print(i,row['Orden'], row['Dependencia'], row['Atencion'], row['Recibio_del_cer'], row['Entrego_al_cer'], str(row['Folio']), row['Entrada'], row['Equipo'], row['Marca'], str(row['Modelo']), str(row['Serie']), str(row['Unidad']), row['Delegacion'], row['Accesorio'], row['Falla'], str(row['Ticket']), row['Status'], row['Reparacion'], row['Salida'], row['Reparo'], row['Servicio'], row['Reporte'])\n",
    "parseCSV(\"cer_orden_gen/data.csv\")"
   ]
  },
  {
   "cell_type": "code",
   "execution_count": 31,
   "metadata": {},
   "outputs": [
    {
     "name": "stdout",
     "output_type": "stream",
     "text": [
      "True\n"
     ]
    }
   ],
   "source": [
    "a_list = serv_data.iloc[:,0]\n",
    "a_list = serv_data.iloc[:,0]\n",
    "a_set = set(a_list)\n",
    "contains_duplicates = len(a_list) != len(a_set)18\n",
    "print(contains_duplicates)\n",
    "import collections\n",
    "print([item for item, count in collections.Counter(a_list).items() if count > 1])\n"
   ]
  }
 ],
 "metadata": {
  "kernelspec": {
   "display_name": "Python 3",
   "language": "python",
   "name": "python3"
  },
  "language_info": {
   "codemirror_mode": {
    "name": "ipython",
    "version": 3
   },
   "file_extension": ".py",
   "mimetype": "text/x-python",
   "name": "python",
   "nbconvert_exporter": "python",
   "pygments_lexer": "ipython3",
   "version": "3.6.12"
  }
 },
 "nbformat": 4,
 "nbformat_minor": 4
}
